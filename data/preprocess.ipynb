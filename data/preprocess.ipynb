{
 "cells": [
  {
   "cell_type": "code",
   "execution_count": 2,
   "metadata": {},
   "outputs": [],
   "source": [
    "import os\n",
    "import pandas as pd"
   ]
  },
  {
   "cell_type": "code",
   "execution_count": 54,
   "metadata": {},
   "outputs": [],
   "source": [
    "direc = os.getcwd()\n",
    "unprocessed_data_path = os.path.join(direc, 'unprocessed')\n",
    "processed_data_path = os.path.join(direc,'processed')\n"
   ]
  },
  {
   "cell_type": "code",
   "execution_count": 62,
   "metadata": {},
   "outputs": [],
   "source": [
    "def read_and_sample(input_path, output_path, random_state = 1):\n",
    "    list_of_files = os.listdir(input_path)\n",
    "    for file in list_of_files:\n",
    "        file_path = os.path.join(input_path, file)\n",
    "        if 'header' in file:\n",
    "            column_names = (pd.read_csv(file_path, sep = ';', header=0).columns)\n",
    "            data_file = file_path.replace('_header', '')\n",
    "            data = pd.read_csv(data_file, sep = ';', header=None, names = column_names)\n",
    "            data = data.sample(frac = 0.1, random_state = random_state)\n",
    "            outfile = os.path.join(output_path, file.replace('_header', ''))\n",
    "            data.to_csv(outfile)  \n",
    "        elif '.csv' in file and file.replace('.csv', '_header.csv') not in list_of_files:\n",
    "            data = pd.read_csv(file_path, sep = ';', header=0)\n",
    "            data = data.sample(frac = 0.1, random_state = random_state)\n",
    "            outfile = os.path.join(output_path, file)\n",
    "            data.to_csv(outfile)"
   ]
  },
  {
   "cell_type": "code",
   "execution_count": 63,
   "metadata": {},
   "outputs": [
    {
     "name": "stderr",
     "output_type": "stream",
     "text": [
      "C:\\Users\\louis\\AppData\\Local\\Temp\\ipykernel_17356\\3722340461.py:8: DtypeWarning: Columns (2,3,4,5,6) have mixed types. Specify dtype option on import or set low_memory=False.\n",
      "  data = pd.read_csv(data_file, sep = ';', header=None, names = column_names)\n",
      "C:\\Users\\louis\\AppData\\Local\\Temp\\ipykernel_17356\\3722340461.py:8: DtypeWarning: Columns (2,3,4) have mixed types. Specify dtype option on import or set low_memory=False.\n",
      "  data = pd.read_csv(data_file, sep = ';', header=None, names = column_names)\n"
     ]
    }
   ],
   "source": [
    "read_and_sample(unprocessed_data_path, processed_data_path)"
   ]
  }
 ],
 "metadata": {
  "interpreter": {
   "hash": "edc68bf9a5f422fe4f7b8b393f086b6041829635654dfaef4252eac2caf5d030"
  },
  "kernelspec": {
   "display_name": "Python 3.8.12 ('NEO4J')",
   "language": "python",
   "name": "python3"
  },
  "language_info": {
   "codemirror_mode": {
    "name": "ipython",
    "version": 3
   },
   "file_extension": ".py",
   "mimetype": "text/x-python",
   "name": "python",
   "nbconvert_exporter": "python",
   "pygments_lexer": "ipython3",
   "version": "3.8.12"
  },
  "orig_nbformat": 4
 },
 "nbformat": 4,
 "nbformat_minor": 2
}
