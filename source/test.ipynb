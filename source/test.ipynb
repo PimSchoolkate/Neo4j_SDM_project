{
 "cells": [
  {
   "cell_type": "code",
   "execution_count": 1,
   "id": "df668cf1",
   "metadata": {},
   "outputs": [],
   "source": [
    "import pandas as pd\n",
    "import os\n",
    "import string\n",
    "from GraphPattern import *"
   ]
  },
  {
   "cell_type": "code",
   "execution_count": 12,
   "id": "3d9018b0",
   "metadata": {},
   "outputs": [],
   "source": [
    "p = pd.read_csv('..\\data\\processed\\proceeding_papers.csv', delimiter=';')"
   ]
  },
  {
   "cell_type": "code",
   "execution_count": 14,
   "id": "72f0a3b9",
   "metadata": {},
   "outputs": [
    {
     "data": {
      "text/plain": [
       "array(['MFCS', 'ACM Multimedia', 'ROBIO', ..., 'TIA', 'LORI', 'TCC (1)'],\n",
       "      dtype=object)"
      ]
     },
     "execution_count": 14,
     "metadata": {},
     "output_type": "execute_result"
    }
   ],
   "source": [
    "p['booktitle'].unique()"
   ]
  },
  {
   "cell_type": "code",
   "execution_count": 2,
   "id": "0f85254d",
   "metadata": {},
   "outputs": [],
   "source": [
    "files = os.listdir(\"../data/processed/\")"
   ]
  },
  {
   "cell_type": "code",
   "execution_count": 3,
   "id": "b7e0ec7a",
   "metadata": {},
   "outputs": [],
   "source": [
    "def load_dblp_files(folder_path):\n",
    "    files = os.listdir(folder_path)\n",
    "    data = {}\n",
    "    for file in files:\n",
    "        name, _ = file.split(\".\")\n",
    "        name = name[5:]\n",
    "        data[name] = pd.read_csv(folder_path + file, delimiter=';')\n",
    "    return data"
   ]
  },
  {
   "cell_type": "code",
   "execution_count": 4,
   "id": "0b3944fd",
   "metadata": {},
   "outputs": [
    {
     "name": "stderr",
     "output_type": "stream",
     "text": [
      "c:\\users\\pim\\appdata\\local\\programs\\python\\python38\\lib\\site-packages\\IPython\\core\\interactiveshell.py:3357: DtypeWarning: Columns (9,22,25,31,32) have mixed types.Specify dtype option on import or set low_memory=False.\n",
      "  if (await self.run_code(code, result,  async_=asy)):\n",
      "c:\\users\\pim\\appdata\\local\\programs\\python\\python38\\lib\\site-packages\\IPython\\core\\interactiveshell.py:3357: DtypeWarning: Columns (20,26) have mixed types.Specify dtype option on import or set low_memory=False.\n",
      "  if (await self.run_code(code, result,  async_=asy)):\n",
      "c:\\users\\pim\\appdata\\local\\programs\\python\\python38\\lib\\site-packages\\IPython\\core\\interactiveshell.py:3357: DtypeWarning: Columns (7) have mixed types.Specify dtype option on import or set low_memory=False.\n",
      "  if (await self.run_code(code, result,  async_=asy)):\n"
     ]
    }
   ],
   "source": [
    "data = load_dblp_files(\"../data/processed/\")"
   ]
  },
  {
   "cell_type": "code",
   "execution_count": 5,
   "id": "5aad9d54",
   "metadata": {},
   "outputs": [],
   "source": [
    "def author_splitter(name):\n",
    "    if type(name) == str:\n",
    "        return name.split(\"|\")\n",
    "    else:\n",
    "        return name"
   ]
  },
  {
   "cell_type": "code",
   "execution_count": 6,
   "id": "04071212",
   "metadata": {},
   "outputs": [],
   "source": [
    "graph = GraphPattern()"
   ]
  },
  {
   "cell_type": "code",
   "execution_count": 7,
   "id": "af14e88e",
   "metadata": {},
   "outputs": [],
   "source": [
    "graph.add_node(node_name='Author', prop_name=\"name\", ref=\"author:string[]\")"
   ]
  },
  {
   "cell_type": "code",
   "execution_count": 8,
   "id": "7d94f3a2",
   "metadata": {},
   "outputs": [],
   "source": [
    "graph.add_node(node_name=\"Article\", prop_name=\"Title\", ref=\"title:string\")"
   ]
  },
  {
   "cell_type": "code",
   "execution_count": 9,
   "id": "87b9c64b",
   "metadata": {},
   "outputs": [],
   "source": [
    "graph.add_node_properties(\"Article\", ['Book_title', 'Cite', 'Cite_label', 'Crossref', 'Editor', 'Ee', 'Ee_type',\n",
    "                                   \"i\", \"Journal\", \"Key\", \"Pages\", \"Publisher\", \"Volumne\", \"Year\"], \n",
    "                        ['booktitle:string', 'cite:string[]', 'cite-label:string[]','crossref:string','editor:string[]',\n",
    "                         'ee:string[]','ee-type:string[]','i:string[]','journal:string','key:string',\n",
    "                         'pages:string','publisher:string', 'volume:string', 'year:int'])"
   ]
  },
  {
   "cell_type": "code",
   "execution_count": 10,
   "id": "6b71fc9f",
   "metadata": {},
   "outputs": [
    {
     "data": {
      "text/plain": [
       "{'Author': <GraphPattern.GraphPattern.Node at 0x21a7a1db6d0>,\n",
       " 'Article': <GraphPattern.GraphPattern.Node at 0x21a7a1dbaf0>}"
      ]
     },
     "execution_count": 10,
     "metadata": {},
     "output_type": "execute_result"
    }
   ],
   "source": [
    "graph.nodes"
   ]
  },
  {
   "cell_type": "code",
   "execution_count": 11,
   "id": "da85bc58",
   "metadata": {},
   "outputs": [
    {
     "data": {
      "text/plain": [
       "{'author:string[]': {'node property': ('Author', 'name')},\n",
       " 'title:string': {'node property': ('Article', 'Title')},\n",
       " 'booktitle:string': {'node property': ('Article', 'Book_title')},\n",
       " 'cite:string[]': {'node property': ('Article', 'Cite')},\n",
       " 'cite-label:string[]': {'node property': ('Article', 'Cite_label')},\n",
       " 'crossref:string': {'node property': ('Article', 'Crossref')},\n",
       " 'editor:string[]': {'node property': ('Article', 'Editor')},\n",
       " 'ee:string[]': {'node property': ('Article', 'Ee')},\n",
       " 'ee-type:string[]': {'node property': ('Article', 'Ee_type')},\n",
       " 'i:string[]': {'node property': ('Article', 'i')},\n",
       " 'journal:string': {'node property': ('Article', 'Journal')},\n",
       " 'key:string': {'node property': ('Article', 'Key')},\n",
       " 'pages:string': {'node property': ('Article', 'Pages')},\n",
       " 'publisher:string': {'node property': ('Article', 'Publisher')},\n",
       " 'volume:string': {'node property': ('Article', 'Volumne')},\n",
       " 'year:int': {'node property': ('Article', 'Year')}}"
      ]
     },
     "execution_count": 11,
     "metadata": {},
     "output_type": "execute_result"
    }
   ],
   "source": [
    "graph.data_graph_mapping"
   ]
  },
  {
   "cell_type": "code",
   "execution_count": 12,
   "id": "801d70a2",
   "metadata": {},
   "outputs": [
    {
     "data": {
      "text/plain": [
       "{'name': {'node property': ('Author', 'author:string[]')},\n",
       " 'Title': {'node property': ('Article', 'title:string')},\n",
       " 'Book_title': {'node property': ('Article', 'booktitle:string')},\n",
       " 'Cite': {'node property': ('Article', 'cite:string[]')},\n",
       " 'Cite_label': {'node property': ('Article', 'cite-label:string[]')},\n",
       " 'Crossref': {'node property': ('Article', 'crossref:string')},\n",
       " 'Editor': {'node property': ('Article', 'editor:string[]')},\n",
       " 'Ee': {'node property': ('Article', 'ee:string[]')},\n",
       " 'Ee_type': {'node property': ('Article', 'ee-type:string[]')},\n",
       " 'i': {'node property': ('Article', 'i:string[]')},\n",
       " 'Journal': {'node property': ('Article', 'journal:string')},\n",
       " 'Key': {'node property': ('Article', 'key:string')},\n",
       " 'Pages': {'node property': ('Article', 'pages:string')},\n",
       " 'Publisher': {'node property': ('Article', 'publisher:string')},\n",
       " 'Volumne': {'node property': ('Article', 'volume:string')},\n",
       " 'Year': {'node property': ('Article', 'year:int')}}"
      ]
     },
     "execution_count": 12,
     "metadata": {},
     "output_type": "execute_result"
    }
   ],
   "source": [
    "graph.graph_data_mapping"
   ]
  },
  {
   "cell_type": "code",
   "execution_count": 13,
   "id": "bb3464a6",
   "metadata": {},
   "outputs": [],
   "source": [
    "graph.add_edge(\"Author\", 'Article', type=\"Contributed\")"
   ]
  },
  {
   "cell_type": "code",
   "execution_count": 14,
   "id": "69668ffc",
   "metadata": {},
   "outputs": [
    {
     "data": {
      "text/plain": [
       "dict_keys(['Author_Article_Contributed'])"
      ]
     },
     "execution_count": 14,
     "metadata": {},
     "output_type": "execute_result"
    }
   ],
   "source": [
    "graph.edges.keys()"
   ]
  },
  {
   "cell_type": "code",
   "execution_count": 15,
   "id": "2c84a77c",
   "metadata": {},
   "outputs": [
    {
     "data": {
      "text/plain": [
       "{'author:string[]': {'node property': ('Author', 'name')},\n",
       " 'title:string': {'node property': ('Article', 'Title')},\n",
       " 'booktitle:string': {'node property': ('Article', 'Book_title')},\n",
       " 'cite:string[]': {'node property': ('Article', 'Cite')},\n",
       " 'cite-label:string[]': {'node property': ('Article', 'Cite_label')},\n",
       " 'crossref:string': {'node property': ('Article', 'Crossref')},\n",
       " 'editor:string[]': {'node property': ('Article', 'Editor')},\n",
       " 'ee:string[]': {'node property': ('Article', 'Ee')},\n",
       " 'ee-type:string[]': {'node property': ('Article', 'Ee_type')},\n",
       " 'i:string[]': {'node property': ('Article', 'i')},\n",
       " 'journal:string': {'node property': ('Article', 'Journal')},\n",
       " 'key:string': {'node property': ('Article', 'Key')},\n",
       " 'pages:string': {'node property': ('Article', 'Pages')},\n",
       " 'publisher:string': {'node property': ('Article', 'Publisher')},\n",
       " 'volume:string': {'node property': ('Article', 'Volumne')},\n",
       " 'year:int': {'node property': ('Article', 'Year')},\n",
       " '': {'edge': 'Author_Article_Contributed'}}"
      ]
     },
     "execution_count": 15,
     "metadata": {},
     "output_type": "execute_result"
    }
   ],
   "source": [
    "graph.data_graph_mapping"
   ]
  },
  {
   "cell_type": "code",
   "execution_count": 16,
   "id": "d9dcd1da",
   "metadata": {},
   "outputs": [],
   "source": [
    "t = list(graph.graph_data_mapping.keys())"
   ]
  },
  {
   "cell_type": "code",
   "execution_count": 17,
   "id": "224d0796",
   "metadata": {},
   "outputs": [
    {
     "data": {
      "text/plain": [
       "1"
      ]
     },
     "execution_count": 17,
     "metadata": {},
     "output_type": "execute_result"
    }
   ],
   "source": [
    "    sum([\"Author_Article\" in l for l in t])"
   ]
  },
  {
   "cell_type": "code",
   "execution_count": 18,
   "id": "33a63f89",
   "metadata": {},
   "outputs": [
    {
     "name": "stdout",
     "output_type": "stream",
     "text": [
      "________________________________________\n",
      "Node: \t\t\tArticle\n",
      "Initialized: \t\tFalse\n",
      "\n",
      "Node Label(s): \n",
      "  - Article\n",
      "\n",
      "Node Properties:\n",
      "  - Title\n",
      "  - Book_title\n",
      "  - Cite\n",
      "  - Cite_label\n",
      "  - Crossref\n",
      "  - Editor\n",
      "  - Ee\n",
      "  - Ee_type\n",
      "  - i\n",
      "  - Journal\n",
      "  - Key\n",
      "  - Pages\n",
      "  - Publisher\n",
      "  - Volumne\n",
      "  - Year\n",
      "\n",
      "Adjacent Nodes and Edges\n"
     ]
    }
   ],
   "source": [
    "graph.nodes[\"Article\"].print_node()"
   ]
  },
  {
   "cell_type": "code",
   "execution_count": 19,
   "id": "3bf6b02c",
   "metadata": {},
   "outputs": [
    {
     "name": "stdout",
     "output_type": "stream",
     "text": [
      "________________________________________\n",
      "Edge: \t\t\tAuthor_Article_Contributed\n",
      "Edge type: \t\tContributed\n",
      "Starting node: \t\tAuthor\n",
      "End node: \t\tArticle\n",
      "Initialized: \t\tFalse\n",
      "\n",
      "Edge Properties:\n"
     ]
    }
   ],
   "source": [
    "graph.edges['Author_Article_Contributed'].print_edge()"
   ]
  },
  {
   "cell_type": "code",
   "execution_count": 20,
   "id": "39e8c13b",
   "metadata": {},
   "outputs": [
    {
     "data": {
      "text/plain": [
       "{'author:string[]': {'node property': ('Author', 'name')},\n",
       " 'title:string': {'node property': ('Article', 'Title')},\n",
       " 'booktitle:string': {'node property': ('Article', 'Book_title')},\n",
       " 'cite:string[]': {'node property': ('Article', 'Cite')},\n",
       " 'cite-label:string[]': {'node property': ('Article', 'Cite_label')},\n",
       " 'crossref:string': {'node property': ('Article', 'Crossref')},\n",
       " 'editor:string[]': {'node property': ('Article', 'Editor')},\n",
       " 'ee:string[]': {'node property': ('Article', 'Ee')},\n",
       " 'ee-type:string[]': {'node property': ('Article', 'Ee_type')},\n",
       " 'i:string[]': {'node property': ('Article', 'i')},\n",
       " 'journal:string': {'node property': ('Article', 'Journal')},\n",
       " 'key:string': {'node property': ('Article', 'Key')},\n",
       " 'pages:string': {'node property': ('Article', 'Pages')},\n",
       " 'publisher:string': {'node property': ('Article', 'Publisher')},\n",
       " 'volume:string': {'node property': ('Article', 'Volumne')},\n",
       " 'year:int': {'node property': ('Article', 'Year')},\n",
       " '': {'edge': 'Author_Article_Contributed'}}"
      ]
     },
     "execution_count": 20,
     "metadata": {},
     "output_type": "execute_result"
    }
   ],
   "source": [
    "graph.data_graph_mapping"
   ]
  },
  {
   "cell_type": "code",
   "execution_count": 21,
   "id": "db2a3e84",
   "metadata": {},
   "outputs": [],
   "source": [
    "graph.initialize_graph()"
   ]
  },
  {
   "cell_type": "code",
   "execution_count": 22,
   "id": "ff0e6066",
   "metadata": {},
   "outputs": [],
   "source": [
    "graph.connect_neo4j(\"neo4j://localhost:7687\", auth=(\"neo4j\", \"louis\"))"
   ]
  },
  {
   "cell_type": "code",
   "execution_count": 23,
   "id": "3687c7e0",
   "metadata": {},
   "outputs": [
    {
     "ename": "CypherSyntaxError",
     "evalue": "{code: Neo.ClientError.Statement.SyntaxError} {message: Invalid input 'F': expected whitespace, comment, '.', node labels or rel types, '[', '^', '*', '/', '%', '+', '-', \"=~\", IN, STARTS, ENDS, CONTAINS, IS, '=', \"<>\", \"!=\", '<', '>', \"<=\", \">=\", AND, XOR, OR, ',' or '}' (line 1, column 420 (offset: 419))\r\n\"MERGE (:Author {name:'D. Mates'}) MERGE (:Author {name:'E. Iancu'}) MERGE (:Author {name:'I. Bostan'}) MERGE (:Author {name:'V. Grosu'}) MERGE (:Article {Book_title:'nan', Cite:'nan', Cite_label:'nan', Crossref:'nan', Editor:'nan', Ee:'http://arxiv.org/abs/1001.3495', Ee_type:'oa', i:'nan', Journal:'CoRR', Key:'journals/corr/abs-1001-3495', Pages:'nan', Publisher:'nan', Title:'Expert System Models in the Companies' Financial and Accounting Domain', Volumne:'abs/1001.3495', Year:'2010.0'})\"\r\n                                                                                                                                                                                                                                                                                                                                                                                                                                    ^}",
     "output_type": "error",
     "traceback": [
      "\u001b[1;31m---------------------------------------------------------------------------\u001b[0m",
      "\u001b[1;31mCypherSyntaxError\u001b[0m                         Traceback (most recent call last)",
      "\u001b[1;32m<ipython-input-23-c1262c5f76f0>\u001b[0m in \u001b[0;36m<module>\u001b[1;34m\u001b[0m\n\u001b[0;32m      1\u001b[0m \u001b[1;32mfor\u001b[0m \u001b[0mi\u001b[0m \u001b[1;32min\u001b[0m \u001b[0mrange\u001b[0m\u001b[1;33m(\u001b[0m\u001b[1;36m0\u001b[0m\u001b[1;33m,\u001b[0m \u001b[0mlen\u001b[0m\u001b[1;33m(\u001b[0m\u001b[0mdata\u001b[0m\u001b[1;33m[\u001b[0m\u001b[1;34m'article'\u001b[0m\u001b[1;33m]\u001b[0m\u001b[1;33m)\u001b[0m\u001b[1;33m)\u001b[0m\u001b[1;33m:\u001b[0m\u001b[1;33m\u001b[0m\u001b[1;33m\u001b[0m\u001b[0m\n\u001b[1;32m----> 2\u001b[1;33m     \u001b[0mgraph\u001b[0m\u001b[1;33m.\u001b[0m\u001b[0mrow_to_neo4j\u001b[0m\u001b[1;33m(\u001b[0m\u001b[0mdata\u001b[0m\u001b[1;33m[\u001b[0m\u001b[1;34m\"article\"\u001b[0m\u001b[1;33m]\u001b[0m\u001b[1;33m.\u001b[0m\u001b[0miloc\u001b[0m\u001b[1;33m[\u001b[0m\u001b[0mi\u001b[0m\u001b[1;33m]\u001b[0m\u001b[1;33m)\u001b[0m\u001b[1;33m\u001b[0m\u001b[1;33m\u001b[0m\u001b[0m\n\u001b[0m",
      "\u001b[1;32m~\\Documents\\GitHub\\Neo4j_SDM_project\\source\\GraphPattern.py\u001b[0m in \u001b[0;36mrow_to_neo4j\u001b[1;34m(self, row)\u001b[0m\n\u001b[0;32m    272\u001b[0m         \u001b[0me\u001b[0m\u001b[1;33m,\u001b[0m \u001b[0mn\u001b[0m\u001b[1;33m,\u001b[0m \u001b[0mep\u001b[0m\u001b[1;33m,\u001b[0m \u001b[0mnp\u001b[0m \u001b[1;33m=\u001b[0m \u001b[0mself\u001b[0m\u001b[1;33m.\u001b[0m\u001b[0mfind_nodes_and_edges_in_pandas_row\u001b[0m\u001b[1;33m(\u001b[0m\u001b[0mrow\u001b[0m\u001b[1;33m)\u001b[0m\u001b[1;33m\u001b[0m\u001b[1;33m\u001b[0m\u001b[0m\n\u001b[0;32m    273\u001b[0m         \u001b[0mnq\u001b[0m\u001b[1;33m,\u001b[0m \u001b[0meq\u001b[0m \u001b[1;33m=\u001b[0m \u001b[0mcreate_neo4j_queries\u001b[0m\u001b[1;33m(\u001b[0m\u001b[0me\u001b[0m\u001b[1;33m,\u001b[0m \u001b[0mep\u001b[0m\u001b[1;33m,\u001b[0m \u001b[0mnp\u001b[0m\u001b[1;33m)\u001b[0m\u001b[1;33m\u001b[0m\u001b[1;33m\u001b[0m\u001b[0m\n\u001b[1;32m--> 274\u001b[1;33m         \u001b[0mself\u001b[0m\u001b[1;33m.\u001b[0m\u001b[0mexecute_queries\u001b[0m\u001b[1;33m(\u001b[0m\u001b[0mnq\u001b[0m\u001b[1;33m,\u001b[0m \u001b[0meq\u001b[0m\u001b[1;33m)\u001b[0m\u001b[1;33m\u001b[0m\u001b[1;33m\u001b[0m\u001b[0m\n\u001b[0m",
      "\u001b[1;32m~\\Documents\\GitHub\\Neo4j_SDM_project\\source\\GraphPattern.py\u001b[0m in \u001b[0;36mexecute_queries\u001b[1;34m(self, node_queries, edge_queries)\u001b[0m\n\u001b[0;32m    252\u001b[0m \u001b[1;33m\u001b[0m\u001b[0m\n\u001b[0;32m    253\u001b[0m     \u001b[1;32mdef\u001b[0m \u001b[0mexecute_queries\u001b[0m\u001b[1;33m(\u001b[0m\u001b[0mself\u001b[0m\u001b[1;33m,\u001b[0m \u001b[0mnode_queries\u001b[0m\u001b[1;33m,\u001b[0m \u001b[0medge_queries\u001b[0m\u001b[1;33m)\u001b[0m\u001b[1;33m:\u001b[0m\u001b[1;33m\u001b[0m\u001b[1;33m\u001b[0m\u001b[0m\n\u001b[1;32m--> 254\u001b[1;33m         \u001b[0mself\u001b[0m\u001b[1;33m.\u001b[0m\u001b[0mexecute_query\u001b[0m\u001b[1;33m(\u001b[0m\u001b[0mmerge_queries\u001b[0m\u001b[1;33m(\u001b[0m\u001b[0mnode_queries\u001b[0m\u001b[1;33m)\u001b[0m\u001b[1;33m)\u001b[0m\u001b[1;33m\u001b[0m\u001b[1;33m\u001b[0m\u001b[0m\n\u001b[0m\u001b[0;32m    255\u001b[0m         \u001b[1;31m#self.execute_query(self.merge_queries(edge_queries))\u001b[0m\u001b[1;33m\u001b[0m\u001b[1;33m\u001b[0m\u001b[1;33m\u001b[0m\u001b[0m\n\u001b[0;32m    256\u001b[0m         \u001b[1;32mfor\u001b[0m \u001b[0meq\u001b[0m \u001b[1;32min\u001b[0m \u001b[0medge_queries\u001b[0m\u001b[1;33m:\u001b[0m\u001b[1;33m\u001b[0m\u001b[1;33m\u001b[0m\u001b[0m\n",
      "\u001b[1;32m~\\Documents\\GitHub\\Neo4j_SDM_project\\source\\GraphPattern.py\u001b[0m in \u001b[0;36mexecute_query\u001b[1;34m(self, query)\u001b[0m\n\u001b[0;32m    259\u001b[0m     \u001b[1;32mdef\u001b[0m \u001b[0mexecute_query\u001b[0m\u001b[1;33m(\u001b[0m\u001b[0mself\u001b[0m\u001b[1;33m,\u001b[0m \u001b[0mquery\u001b[0m\u001b[1;33m)\u001b[0m\u001b[1;33m:\u001b[0m\u001b[1;33m\u001b[0m\u001b[1;33m\u001b[0m\u001b[0m\n\u001b[0;32m    260\u001b[0m         \u001b[1;32mwith\u001b[0m \u001b[0mself\u001b[0m\u001b[1;33m.\u001b[0m\u001b[0mdriver\u001b[0m\u001b[1;33m.\u001b[0m\u001b[0msession\u001b[0m\u001b[1;33m(\u001b[0m\u001b[1;33m)\u001b[0m \u001b[1;32mas\u001b[0m \u001b[0msession\u001b[0m\u001b[1;33m:\u001b[0m\u001b[1;33m\u001b[0m\u001b[1;33m\u001b[0m\u001b[0m\n\u001b[1;32m--> 261\u001b[1;33m             \u001b[0msession\u001b[0m\u001b[1;33m.\u001b[0m\u001b[0mwrite_transaction\u001b[0m\u001b[1;33m(\u001b[0m\u001b[0mexecute\u001b[0m\u001b[1;33m,\u001b[0m \u001b[0mquery\u001b[0m\u001b[1;33m)\u001b[0m\u001b[1;33m\u001b[0m\u001b[1;33m\u001b[0m\u001b[0m\n\u001b[0m\u001b[0;32m    262\u001b[0m \u001b[1;33m\u001b[0m\u001b[0m\n\u001b[0;32m    263\u001b[0m     \u001b[1;32mdef\u001b[0m \u001b[0mmerge_queries\u001b[0m\u001b[1;33m(\u001b[0m\u001b[0mself\u001b[0m\u001b[1;33m,\u001b[0m \u001b[0mqueries\u001b[0m\u001b[1;33m)\u001b[0m\u001b[1;33m:\u001b[0m\u001b[1;33m\u001b[0m\u001b[1;33m\u001b[0m\u001b[0m\n",
      "\u001b[1;32mc:\\users\\pim\\appdata\\local\\programs\\python\\python38\\lib\\site-packages\\neo4j\\work\\simple.py\u001b[0m in \u001b[0;36mwrite_transaction\u001b[1;34m(self, transaction_function, *args, **kwargs)\u001b[0m\n\u001b[0;32m    419\u001b[0m         \u001b[1;33m:\u001b[0m\u001b[1;32mreturn\u001b[0m\u001b[1;33m:\u001b[0m \u001b[0ma\u001b[0m \u001b[0mresult\u001b[0m \u001b[1;32mas\u001b[0m \u001b[0mreturned\u001b[0m \u001b[0mby\u001b[0m \u001b[0mthe\u001b[0m \u001b[0mgiven\u001b[0m \u001b[0munit\u001b[0m \u001b[0mof\u001b[0m \u001b[0mwork\u001b[0m\u001b[1;33m\u001b[0m\u001b[1;33m\u001b[0m\u001b[0m\n\u001b[0;32m    420\u001b[0m         \"\"\"\n\u001b[1;32m--> 421\u001b[1;33m         \u001b[1;32mreturn\u001b[0m \u001b[0mself\u001b[0m\u001b[1;33m.\u001b[0m\u001b[0m_run_transaction\u001b[0m\u001b[1;33m(\u001b[0m\u001b[0mWRITE_ACCESS\u001b[0m\u001b[1;33m,\u001b[0m \u001b[0mtransaction_function\u001b[0m\u001b[1;33m,\u001b[0m \u001b[1;33m*\u001b[0m\u001b[0margs\u001b[0m\u001b[1;33m,\u001b[0m \u001b[1;33m**\u001b[0m\u001b[0mkwargs\u001b[0m\u001b[1;33m)\u001b[0m\u001b[1;33m\u001b[0m\u001b[1;33m\u001b[0m\u001b[0m\n\u001b[0m\u001b[0;32m    422\u001b[0m \u001b[1;33m\u001b[0m\u001b[0m\n\u001b[0;32m    423\u001b[0m \u001b[1;33m\u001b[0m\u001b[0m\n",
      "\u001b[1;32mc:\\users\\pim\\appdata\\local\\programs\\python\\python38\\lib\\site-packages\\neo4j\\work\\simple.py\u001b[0m in \u001b[0;36m_run_transaction\u001b[1;34m(self, access_mode, transaction_function, *args, **kwargs)\u001b[0m\n\u001b[0;32m    323\u001b[0m                 \u001b[0mtx\u001b[0m \u001b[1;33m=\u001b[0m \u001b[0mself\u001b[0m\u001b[1;33m.\u001b[0m\u001b[0m_transaction\u001b[0m\u001b[1;33m\u001b[0m\u001b[1;33m\u001b[0m\u001b[0m\n\u001b[0;32m    324\u001b[0m                 \u001b[1;32mtry\u001b[0m\u001b[1;33m:\u001b[0m\u001b[1;33m\u001b[0m\u001b[1;33m\u001b[0m\u001b[0m\n\u001b[1;32m--> 325\u001b[1;33m                     \u001b[0mresult\u001b[0m \u001b[1;33m=\u001b[0m \u001b[0mtransaction_function\u001b[0m\u001b[1;33m(\u001b[0m\u001b[0mtx\u001b[0m\u001b[1;33m,\u001b[0m \u001b[1;33m*\u001b[0m\u001b[0margs\u001b[0m\u001b[1;33m,\u001b[0m \u001b[1;33m**\u001b[0m\u001b[0mkwargs\u001b[0m\u001b[1;33m)\u001b[0m\u001b[1;33m\u001b[0m\u001b[1;33m\u001b[0m\u001b[0m\n\u001b[0m\u001b[0;32m    326\u001b[0m                 \u001b[1;32mexcept\u001b[0m \u001b[0mException\u001b[0m\u001b[1;33m:\u001b[0m\u001b[1;33m\u001b[0m\u001b[1;33m\u001b[0m\u001b[0m\n\u001b[0;32m    327\u001b[0m                     \u001b[0mtx\u001b[0m\u001b[1;33m.\u001b[0m\u001b[0mclose\u001b[0m\u001b[1;33m(\u001b[0m\u001b[1;33m)\u001b[0m\u001b[1;33m\u001b[0m\u001b[1;33m\u001b[0m\u001b[0m\n",
      "\u001b[1;32m~\\Documents\\GitHub\\Neo4j_SDM_project\\source\\nodebuild_utils.py\u001b[0m in \u001b[0;36mexecute\u001b[1;34m(tx, query)\u001b[0m\n\u001b[0;32m    109\u001b[0m \u001b[1;33m\u001b[0m\u001b[0m\n\u001b[0;32m    110\u001b[0m \u001b[1;32mdef\u001b[0m \u001b[0mexecute\u001b[0m\u001b[1;33m(\u001b[0m\u001b[0mtx\u001b[0m\u001b[1;33m,\u001b[0m \u001b[0mquery\u001b[0m\u001b[1;33m)\u001b[0m\u001b[1;33m:\u001b[0m\u001b[1;33m\u001b[0m\u001b[1;33m\u001b[0m\u001b[0m\n\u001b[1;32m--> 111\u001b[1;33m     \u001b[0mtx\u001b[0m\u001b[1;33m.\u001b[0m\u001b[0mrun\u001b[0m\u001b[1;33m(\u001b[0m\u001b[0mquery\u001b[0m\u001b[1;33m)\u001b[0m\u001b[1;33m\u001b[0m\u001b[1;33m\u001b[0m\u001b[0m\n\u001b[0m\u001b[0;32m    112\u001b[0m \u001b[1;33m\u001b[0m\u001b[0m\n\u001b[0;32m    113\u001b[0m \u001b[1;33m\u001b[0m\u001b[0m\n",
      "\u001b[1;32mc:\\users\\pim\\appdata\\local\\programs\\python\\python38\\lib\\site-packages\\neo4j\\work\\transaction.py\u001b[0m in \u001b[0;36mrun\u001b[1;34m(self, query, parameters, **kwparameters)\u001b[0m\n\u001b[0;32m    135\u001b[0m         \u001b[0mself\u001b[0m\u001b[1;33m.\u001b[0m\u001b[0m_results\u001b[0m\u001b[1;33m.\u001b[0m\u001b[0mappend\u001b[0m\u001b[1;33m(\u001b[0m\u001b[0mresult\u001b[0m\u001b[1;33m)\u001b[0m\u001b[1;33m\u001b[0m\u001b[1;33m\u001b[0m\u001b[0m\n\u001b[0;32m    136\u001b[0m \u001b[1;33m\u001b[0m\u001b[0m\n\u001b[1;32m--> 137\u001b[1;33m         \u001b[0mresult\u001b[0m\u001b[1;33m.\u001b[0m\u001b[0m_tx_ready_run\u001b[0m\u001b[1;33m(\u001b[0m\u001b[0mquery\u001b[0m\u001b[1;33m,\u001b[0m \u001b[0mparameters\u001b[0m\u001b[1;33m,\u001b[0m \u001b[1;33m**\u001b[0m\u001b[0mkwparameters\u001b[0m\u001b[1;33m)\u001b[0m\u001b[1;33m\u001b[0m\u001b[1;33m\u001b[0m\u001b[0m\n\u001b[0m\u001b[0;32m    138\u001b[0m \u001b[1;33m\u001b[0m\u001b[0m\n\u001b[0;32m    139\u001b[0m         \u001b[1;32mreturn\u001b[0m \u001b[0mresult\u001b[0m\u001b[1;33m\u001b[0m\u001b[1;33m\u001b[0m\u001b[0m\n",
      "\u001b[1;32mc:\\users\\pim\\appdata\\local\\programs\\python\\python38\\lib\\site-packages\\neo4j\\work\\result.py\u001b[0m in \u001b[0;36m_tx_ready_run\u001b[1;34m(self, query, parameters, **kwparameters)\u001b[0m\n\u001b[0;32m     68\u001b[0m         \u001b[1;31m# BEGIN {extra}\u001b[0m\u001b[1;33m\u001b[0m\u001b[1;33m\u001b[0m\u001b[1;33m\u001b[0m\u001b[0m\n\u001b[0;32m     69\u001b[0m         \u001b[1;31m# RUN \"query\" {parameters} {extra}\u001b[0m\u001b[1;33m\u001b[0m\u001b[1;33m\u001b[0m\u001b[1;33m\u001b[0m\u001b[0m\n\u001b[1;32m---> 70\u001b[1;33m         \u001b[0mself\u001b[0m\u001b[1;33m.\u001b[0m\u001b[0m_run\u001b[0m\u001b[1;33m(\u001b[0m\u001b[0mquery\u001b[0m\u001b[1;33m,\u001b[0m \u001b[0mparameters\u001b[0m\u001b[1;33m,\u001b[0m \u001b[1;32mNone\u001b[0m\u001b[1;33m,\u001b[0m \u001b[1;32mNone\u001b[0m\u001b[1;33m,\u001b[0m \u001b[1;32mNone\u001b[0m\u001b[1;33m,\u001b[0m \u001b[1;32mNone\u001b[0m\u001b[1;33m,\u001b[0m \u001b[1;33m**\u001b[0m\u001b[0mkwparameters\u001b[0m\u001b[1;33m)\u001b[0m\u001b[1;33m\u001b[0m\u001b[1;33m\u001b[0m\u001b[0m\n\u001b[0m\u001b[0;32m     71\u001b[0m \u001b[1;33m\u001b[0m\u001b[0m\n\u001b[0;32m     72\u001b[0m     def _run(self, query, parameters, db, imp_user, access_mode, bookmarks,\n",
      "\u001b[1;32mc:\\users\\pim\\appdata\\local\\programs\\python\\python38\\lib\\site-packages\\neo4j\\work\\result.py\u001b[0m in \u001b[0;36m_run\u001b[1;34m(self, query, parameters, db, imp_user, access_mode, bookmarks, **kwparameters)\u001b[0m\n\u001b[0;32m    112\u001b[0m         \u001b[0mself\u001b[0m\u001b[1;33m.\u001b[0m\u001b[0m_pull\u001b[0m\u001b[1;33m(\u001b[0m\u001b[1;33m)\u001b[0m\u001b[1;33m\u001b[0m\u001b[1;33m\u001b[0m\u001b[0m\n\u001b[0;32m    113\u001b[0m         \u001b[0mself\u001b[0m\u001b[1;33m.\u001b[0m\u001b[0m_connection\u001b[0m\u001b[1;33m.\u001b[0m\u001b[0msend_all\u001b[0m\u001b[1;33m(\u001b[0m\u001b[1;33m)\u001b[0m\u001b[1;33m\u001b[0m\u001b[1;33m\u001b[0m\u001b[0m\n\u001b[1;32m--> 114\u001b[1;33m         \u001b[0mself\u001b[0m\u001b[1;33m.\u001b[0m\u001b[0m_attach\u001b[0m\u001b[1;33m(\u001b[0m\u001b[1;33m)\u001b[0m\u001b[1;33m\u001b[0m\u001b[1;33m\u001b[0m\u001b[0m\n\u001b[0m\u001b[0;32m    115\u001b[0m \u001b[1;33m\u001b[0m\u001b[0m\n\u001b[0;32m    116\u001b[0m     \u001b[1;32mdef\u001b[0m \u001b[0m_pull\u001b[0m\u001b[1;33m(\u001b[0m\u001b[0mself\u001b[0m\u001b[1;33m)\u001b[0m\u001b[1;33m:\u001b[0m\u001b[1;33m\u001b[0m\u001b[1;33m\u001b[0m\u001b[0m\n",
      "\u001b[1;32mc:\\users\\pim\\appdata\\local\\programs\\python\\python38\\lib\\site-packages\\neo4j\\work\\result.py\u001b[0m in \u001b[0;36m_attach\u001b[1;34m(self)\u001b[0m\n\u001b[0;32m    201\u001b[0m         \u001b[1;32mif\u001b[0m \u001b[0mself\u001b[0m\u001b[1;33m.\u001b[0m\u001b[0m_closed\u001b[0m \u001b[1;32mis\u001b[0m \u001b[1;32mFalse\u001b[0m\u001b[1;33m:\u001b[0m\u001b[1;33m\u001b[0m\u001b[1;33m\u001b[0m\u001b[0m\n\u001b[0;32m    202\u001b[0m             \u001b[1;32mwhile\u001b[0m \u001b[0mself\u001b[0m\u001b[1;33m.\u001b[0m\u001b[0m_attached\u001b[0m \u001b[1;32mis\u001b[0m \u001b[1;32mFalse\u001b[0m\u001b[1;33m:\u001b[0m\u001b[1;33m\u001b[0m\u001b[1;33m\u001b[0m\u001b[0m\n\u001b[1;32m--> 203\u001b[1;33m                 \u001b[0mself\u001b[0m\u001b[1;33m.\u001b[0m\u001b[0m_connection\u001b[0m\u001b[1;33m.\u001b[0m\u001b[0mfetch_message\u001b[0m\u001b[1;33m(\u001b[0m\u001b[1;33m)\u001b[0m\u001b[1;33m\u001b[0m\u001b[1;33m\u001b[0m\u001b[0m\n\u001b[0m\u001b[0;32m    204\u001b[0m \u001b[1;33m\u001b[0m\u001b[0m\n\u001b[0;32m    205\u001b[0m     \u001b[1;32mdef\u001b[0m \u001b[0m_buffer\u001b[0m\u001b[1;33m(\u001b[0m\u001b[0mself\u001b[0m\u001b[1;33m,\u001b[0m \u001b[0mn\u001b[0m\u001b[1;33m=\u001b[0m\u001b[1;32mNone\u001b[0m\u001b[1;33m)\u001b[0m\u001b[1;33m:\u001b[0m\u001b[1;33m\u001b[0m\u001b[1;33m\u001b[0m\u001b[0m\n",
      "\u001b[1;32mc:\\users\\pim\\appdata\\local\\programs\\python\\python38\\lib\\site-packages\\neo4j\\io\\_common.py\u001b[0m in \u001b[0;36minner\u001b[1;34m(*args, **kwargs)\u001b[0m\n\u001b[0;32m    184\u001b[0m             \u001b[1;32mdef\u001b[0m \u001b[0minner\u001b[0m\u001b[1;33m(\u001b[0m\u001b[1;33m*\u001b[0m\u001b[0margs\u001b[0m\u001b[1;33m,\u001b[0m \u001b[1;33m**\u001b[0m\u001b[0mkwargs\u001b[0m\u001b[1;33m)\u001b[0m\u001b[1;33m:\u001b[0m\u001b[1;33m\u001b[0m\u001b[1;33m\u001b[0m\u001b[0m\n\u001b[0;32m    185\u001b[0m                 \u001b[1;32mtry\u001b[0m\u001b[1;33m:\u001b[0m\u001b[1;33m\u001b[0m\u001b[1;33m\u001b[0m\u001b[0m\n\u001b[1;32m--> 186\u001b[1;33m                     \u001b[0mfunc\u001b[0m\u001b[1;33m(\u001b[0m\u001b[1;33m*\u001b[0m\u001b[0margs\u001b[0m\u001b[1;33m,\u001b[0m \u001b[1;33m**\u001b[0m\u001b[0mkwargs\u001b[0m\u001b[1;33m)\u001b[0m\u001b[1;33m\u001b[0m\u001b[1;33m\u001b[0m\u001b[0m\n\u001b[0m\u001b[0;32m    187\u001b[0m                 \u001b[1;32mexcept\u001b[0m \u001b[1;33m(\u001b[0m\u001b[0mNeo4jError\u001b[0m\u001b[1;33m,\u001b[0m \u001b[0mServiceUnavailable\u001b[0m\u001b[1;33m,\u001b[0m \u001b[0mSessionExpired\u001b[0m\u001b[1;33m)\u001b[0m \u001b[1;32mas\u001b[0m \u001b[0mexc\u001b[0m\u001b[1;33m:\u001b[0m\u001b[1;33m\u001b[0m\u001b[1;33m\u001b[0m\u001b[0m\n\u001b[0;32m    188\u001b[0m                     \u001b[0mself\u001b[0m\u001b[1;33m.\u001b[0m\u001b[0m__on_error\u001b[0m\u001b[1;33m(\u001b[0m\u001b[0mexc\u001b[0m\u001b[1;33m)\u001b[0m\u001b[1;33m\u001b[0m\u001b[1;33m\u001b[0m\u001b[0m\n",
      "\u001b[1;32mc:\\users\\pim\\appdata\\local\\programs\\python\\python38\\lib\\site-packages\\neo4j\\io\\_bolt4.py\u001b[0m in \u001b[0;36mfetch_message\u001b[1;34m(self)\u001b[0m\n\u001b[0;32m    307\u001b[0m             \u001b[0mself\u001b[0m\u001b[1;33m.\u001b[0m\u001b[0m_server_state_manager\u001b[0m\u001b[1;33m.\u001b[0m\u001b[0mstate\u001b[0m \u001b[1;33m=\u001b[0m \u001b[0mServerStates\u001b[0m\u001b[1;33m.\u001b[0m\u001b[0mFAILED\u001b[0m\u001b[1;33m\u001b[0m\u001b[1;33m\u001b[0m\u001b[0m\n\u001b[0;32m    308\u001b[0m             \u001b[1;32mtry\u001b[0m\u001b[1;33m:\u001b[0m\u001b[1;33m\u001b[0m\u001b[1;33m\u001b[0m\u001b[0m\n\u001b[1;32m--> 309\u001b[1;33m                 \u001b[0mresponse\u001b[0m\u001b[1;33m.\u001b[0m\u001b[0mon_failure\u001b[0m\u001b[1;33m(\u001b[0m\u001b[0msummary_metadata\u001b[0m \u001b[1;32mor\u001b[0m \u001b[1;33m{\u001b[0m\u001b[1;33m}\u001b[0m\u001b[1;33m)\u001b[0m\u001b[1;33m\u001b[0m\u001b[1;33m\u001b[0m\u001b[0m\n\u001b[0m\u001b[0;32m    310\u001b[0m             \u001b[1;32mexcept\u001b[0m \u001b[1;33m(\u001b[0m\u001b[0mServiceUnavailable\u001b[0m\u001b[1;33m,\u001b[0m \u001b[0mDatabaseUnavailable\u001b[0m\u001b[1;33m)\u001b[0m\u001b[1;33m:\u001b[0m\u001b[1;33m\u001b[0m\u001b[1;33m\u001b[0m\u001b[0m\n\u001b[0;32m    311\u001b[0m                 \u001b[1;32mif\u001b[0m \u001b[0mself\u001b[0m\u001b[1;33m.\u001b[0m\u001b[0mpool\u001b[0m\u001b[1;33m:\u001b[0m\u001b[1;33m\u001b[0m\u001b[1;33m\u001b[0m\u001b[0m\n",
      "\u001b[1;32mc:\\users\\pim\\appdata\\local\\programs\\python\\python38\\lib\\site-packages\\neo4j\\io\\_common.py\u001b[0m in \u001b[0;36mon_failure\u001b[1;34m(self, metadata)\u001b[0m\n\u001b[0;32m    242\u001b[0m         \u001b[1;32mif\u001b[0m \u001b[0mcallable\u001b[0m\u001b[1;33m(\u001b[0m\u001b[0mhandler\u001b[0m\u001b[1;33m)\u001b[0m\u001b[1;33m:\u001b[0m\u001b[1;33m\u001b[0m\u001b[1;33m\u001b[0m\u001b[0m\n\u001b[0;32m    243\u001b[0m             \u001b[0mhandler\u001b[0m\u001b[1;33m(\u001b[0m\u001b[1;33m)\u001b[0m\u001b[1;33m\u001b[0m\u001b[1;33m\u001b[0m\u001b[0m\n\u001b[1;32m--> 244\u001b[1;33m         \u001b[1;32mraise\u001b[0m \u001b[0mNeo4jError\u001b[0m\u001b[1;33m.\u001b[0m\u001b[0mhydrate\u001b[0m\u001b[1;33m(\u001b[0m\u001b[1;33m**\u001b[0m\u001b[0mmetadata\u001b[0m\u001b[1;33m)\u001b[0m\u001b[1;33m\u001b[0m\u001b[1;33m\u001b[0m\u001b[0m\n\u001b[0m\u001b[0;32m    245\u001b[0m \u001b[1;33m\u001b[0m\u001b[0m\n\u001b[0;32m    246\u001b[0m     \u001b[1;32mdef\u001b[0m \u001b[0mon_ignored\u001b[0m\u001b[1;33m(\u001b[0m\u001b[0mself\u001b[0m\u001b[1;33m,\u001b[0m \u001b[0mmetadata\u001b[0m\u001b[1;33m=\u001b[0m\u001b[1;32mNone\u001b[0m\u001b[1;33m)\u001b[0m\u001b[1;33m:\u001b[0m\u001b[1;33m\u001b[0m\u001b[1;33m\u001b[0m\u001b[0m\n",
      "\u001b[1;31mCypherSyntaxError\u001b[0m: {code: Neo.ClientError.Statement.SyntaxError} {message: Invalid input 'F': expected whitespace, comment, '.', node labels or rel types, '[', '^', '*', '/', '%', '+', '-', \"=~\", IN, STARTS, ENDS, CONTAINS, IS, '=', \"<>\", \"!=\", '<', '>', \"<=\", \">=\", AND, XOR, OR, ',' or '}' (line 1, column 420 (offset: 419))\r\n\"MERGE (:Author {name:'D. Mates'}) MERGE (:Author {name:'E. Iancu'}) MERGE (:Author {name:'I. Bostan'}) MERGE (:Author {name:'V. Grosu'}) MERGE (:Article {Book_title:'nan', Cite:'nan', Cite_label:'nan', Crossref:'nan', Editor:'nan', Ee:'http://arxiv.org/abs/1001.3495', Ee_type:'oa', i:'nan', Journal:'CoRR', Key:'journals/corr/abs-1001-3495', Pages:'nan', Publisher:'nan', Title:'Expert System Models in the Companies' Financial and Accounting Domain', Volumne:'abs/1001.3495', Year:'2010.0'})\"\r\n                                                                                                                                                                                                                                                                                                                                                                                                                                    ^}"
     ]
    }
   ],
   "source": [
    "for i in range(0, len(data['article'])):\n",
    "    graph.row_to_neo4j(data[\"article\"].iloc[i])"
   ]
  },
  {
   "cell_type": "code",
   "execution_count": 29,
   "id": "f7eb44cd",
   "metadata": {},
   "outputs": [
    {
     "name": "stdout",
     "output_type": "stream",
     "text": [
      "'Hyeonjoon Moon' type of this value is <class 'str'>\n",
      "'Kanghun Jeong' type of this value is <class 'str'>\n",
      "'nan' type of this value is <class 'str'>\n",
      "'nan' type of this value is <class 'str'>\n",
      "'nan' type of this value is <class 'str'>\n",
      "'nan' type of this value is <class 'str'>\n",
      "'nan' type of this value is <class 'str'>\n",
      "'https://doi.org/10.3837/tiis.2011.01.013' type of this value is <class 'str'>\n",
      "'oa' type of this value is <class 'str'>\n",
      "'nan' type of this value is <class 'str'>\n",
      "'KSII Trans. Internet Inf. Syst.' type of this value is <class 'str'>\n",
      "'journals/itiis/JeongM11' type of this value is <class 'str'>\n",
      "'228-246' type of this value is <class 'str'>\n",
      "'nan' type of this value is <class 'str'>\n",
      "'Efficient 3D Model based Face Representation and Recognition Algorithm using Pixel-to-Vertex Map (PVM).' type of this value is <class 'str'>\n",
      "'5' type of this value is <class 'str'>\n",
      "'2011.0' type of this value is <class 'str'>\n"
     ]
    }
   ],
   "source": []
  },
  {
   "cell_type": "code",
   "execution_count": 24,
   "id": "330a9c8a",
   "metadata": {},
   "outputs": [],
   "source": [
    "e, n, ep, np = graph.find_nodes_and_edges_in_pandas_row(data[\"article\"].iloc[1])"
   ]
  },
  {
   "cell_type": "code",
   "execution_count": 25,
   "id": "78cd80f1",
   "metadata": {},
   "outputs": [
    {
     "data": {
      "text/plain": [
       "<GraphPattern.GraphPattern at 0x1a8f909a490>"
      ]
     },
     "execution_count": 25,
     "metadata": {},
     "output_type": "execute_result"
    }
   ],
   "source": [
    "graph"
   ]
  },
  {
   "cell_type": "code",
   "execution_count": 26,
   "id": "fc701120",
   "metadata": {},
   "outputs": [
    {
     "name": "stdout",
     "output_type": "stream",
     "text": [
      "'Hyeonjoon Moon' type of this value is <class 'str'>\n",
      "'Kanghun Jeong' type of this value is <class 'str'>\n",
      "'nan' type of this value is <class 'str'>\n",
      "'nan' type of this value is <class 'str'>\n",
      "'nan' type of this value is <class 'str'>\n",
      "'nan' type of this value is <class 'str'>\n",
      "'nan' type of this value is <class 'str'>\n",
      "'https://doi.org/10.3837/tiis.2011.01.013' type of this value is <class 'str'>\n",
      "'oa' type of this value is <class 'str'>\n",
      "'nan' type of this value is <class 'str'>\n",
      "'KSII Trans. Internet Inf. Syst.' type of this value is <class 'str'>\n",
      "'journals/itiis/JeongM11' type of this value is <class 'str'>\n",
      "'228-246' type of this value is <class 'str'>\n",
      "'nan' type of this value is <class 'str'>\n",
      "'Efficient 3D Model based Face Representation and Recognition Algorithm using Pixel-to-Vertex Map (PVM).' type of this value is <class 'str'>\n",
      "'5' type of this value is <class 'str'>\n",
      "'2011.0' type of this value is <class 'str'>\n"
     ]
    }
   ],
   "source": [
    "nq, eq = graph.create_neo4j_queries(e, ep, np)"
   ]
  },
  {
   "cell_type": "code",
   "execution_count": 27,
   "id": "003e220e",
   "metadata": {},
   "outputs": [],
   "source": [
    "graph.execute_queries(nq, eq)"
   ]
  },
  {
   "cell_type": "code",
   "execution_count": 28,
   "id": "1e846b18",
   "metadata": {},
   "outputs": [
    {
     "ename": "NameError",
     "evalue": "name 'lst1' is not defined",
     "output_type": "error",
     "traceback": [
      "\u001b[1;31m---------------------------------------------------------------------------\u001b[0m",
      "\u001b[1;31mNameError\u001b[0m                                 Traceback (most recent call last)",
      "\u001b[1;32m<ipython-input-28-025be98625c3>\u001b[0m in \u001b[0;36m<module>\u001b[1;34m\u001b[0m\n\u001b[1;32m----> 1\u001b[1;33m \u001b[1;32mfor\u001b[0m \u001b[0ma\u001b[0m\u001b[1;33m,\u001b[0m \u001b[0mb\u001b[0m \u001b[1;32min\u001b[0m \u001b[0mzip\u001b[0m\u001b[1;33m(\u001b[0m\u001b[0mlst1\u001b[0m\u001b[1;33m,\u001b[0m \u001b[0mlst2\u001b[0m\u001b[1;33m)\u001b[0m\u001b[1;33m:\u001b[0m\u001b[1;33m\u001b[0m\u001b[1;33m\u001b[0m\u001b[0m\n\u001b[0m\u001b[0;32m      2\u001b[0m     \u001b[0mprint\u001b[0m\u001b[1;33m(\u001b[0m\u001b[0ma\u001b[0m \u001b[1;33m+\u001b[0m \u001b[0mb\u001b[0m\u001b[1;33m)\u001b[0m\u001b[1;33m\u001b[0m\u001b[1;33m\u001b[0m\u001b[0m\n",
      "\u001b[1;31mNameError\u001b[0m: name 'lst1' is not defined"
     ]
    }
   ],
   "source": [
    "for a, b in zip(lst1, lst2):\n",
    "    print(a + b)"
   ]
  },
  {
   "cell_type": "code",
   "execution_count": null,
   "id": "12c08acb",
   "metadata": {},
   "outputs": [],
   "source": [
    "for a in lst1:\n",
    "    print(a)"
   ]
  },
  {
   "cell_type": "code",
   "execution_count": null,
   "id": "636f7e0a",
   "metadata": {},
   "outputs": [],
   "source": [
    "print('_'*30)"
   ]
  },
  {
   "cell_type": "code",
   "execution_count": null,
   "id": "4158949b",
   "metadata": {},
   "outputs": [],
   "source": [
    "ele = {'key': 3}"
   ]
  },
  {
   "cell_type": "code",
   "execution_count": null,
   "id": "75e09d1d",
   "metadata": {},
   "outputs": [],
   "source": [
    "list(ele.keys())[0] == \"key\""
   ]
  },
  {
   "cell_type": "code",
   "execution_count": null,
   "id": "5117f29a",
   "metadata": {},
   "outputs": [],
   "source": [
    "a = ['a', 'b', 'c']"
   ]
  },
  {
   "cell_type": "code",
   "execution_count": null,
   "id": "a112f321",
   "metadata": {},
   "outputs": [],
   "source": [
    "[\"a\" == l for l in a]"
   ]
  },
  {
   "cell_type": "code",
   "execution_count": null,
   "id": "a9c5637f",
   "metadata": {},
   "outputs": [],
   "source": [
    "node_properties = {'Author': [['name'], ['Hyeonjoon Moon|Pim']], 'Article': [['Book_title', 'Cite', 'Cite_label', 'Crossref', 'Editor', 'Ee', 'Ee_type', 'i', 'Journal', 'Key', 'Pages', 'Publisher', 'Title', 'Volumne', 'Year'], [\"nan\", \"nan\", \"nan\", \"nan\", \"nan\", 'https://doi.org/10.3837/tiis.2011.01.013', 'oa', \"nan\", 'KSII Trans. Internet Inf. Syst.', 'journals/itiis/JeongM11', '228-246', \"nan\", 'Efficient 3D Model based Face Representation and Recognition Algorithm using Pixel-to-Vertex Map (PVM).', '5', 2011.0]]}"
   ]
  },
  {
   "cell_type": "code",
   "execution_count": null,
   "id": "13c7eae9",
   "metadata": {},
   "outputs": [],
   "source": [
    "    def temp_separate_node(node_properties):\n",
    "        new_nodes = [node_properties]\n",
    "        for i in range(0, len(node_properties[0])):\n",
    "            if type(node_properties[1][i]) == str:\n",
    "                if \"|\" in node_properties[1][i]:\n",
    "                    values = node_properties[1][i].split(\"|\")\n",
    "                    new_nodes = []\n",
    "                    for v in values:\n",
    "                        new_nodes.append([node_properties[0],\n",
    "                                         node_properties[1][0:i]+[v]+\n",
    "                                         node_properties[1][i+1:len(node_properties[1])]])\n",
    "                    break\n",
    "\n",
    "        return new_nodes"
   ]
  },
  {
   "cell_type": "code",
   "execution_count": null,
   "id": "0fb7ac62",
   "metadata": {},
   "outputs": [],
   "source": [
    "    def separate_node(node_properties):\n",
    "        new_node_properties = {}\n",
    "        for node in node_properties.keys():\n",
    "            for i in range(0, len(node_properties[node][0])):\n",
    "                if type(node_properties[node][1][i]) == str:\n",
    "                    if \"|\" in node_properties[node][1][i]:\n",
    "                        values = node_properties[node][1][i].split(\"|\")\n",
    "                        new_nodes = []\n",
    "                        for v in values:\n",
    "                            new_nodes.append([node_properties[node][0],\n",
    "                                             node_properties[node][1][0:i]+[v]+\n",
    "                                             node_properties[node][1][i+1:len(node_properties[node][1])]])\n",
    "                        new_node_properties[node] = new_nodes"
   ]
  },
  {
   "cell_type": "code",
   "execution_count": null,
   "id": "6fd9d423",
   "metadata": {},
   "outputs": [],
   "source": [
    "values = p['Author'][1][0].split(\"|\")"
   ]
  },
  {
   "cell_type": "code",
   "execution_count": null,
   "id": "10ec3114",
   "metadata": {},
   "outputs": [],
   "source": [
    "node_prop['Author']"
   ]
  },
  {
   "cell_type": "code",
   "execution_count": null,
   "id": "38a9ef7f",
   "metadata": {},
   "outputs": [],
   "source": [
    "nodes = temp_separate_node(node_prop['Author'])"
   ]
  },
  {
   "cell_type": "code",
   "execution_count": null,
   "id": "ae0cb36b",
   "metadata": {},
   "outputs": [],
   "source": [
    "for key, value in nodes:\n",
    "    print(key)\n",
    "    print(value)"
   ]
  },
  {
   "cell_type": "code",
   "execution_count": null,
   "id": "115317f5",
   "metadata": {},
   "outputs": [],
   "source": [
    "node_properties"
   ]
  },
  {
   "cell_type": "code",
   "execution_count": null,
   "id": "c65f5cd2",
   "metadata": {},
   "outputs": [],
   "source": [
    "queries = []\n",
    "for label in node_properties.keys():\n",
    "    print((label,))\n",
    "    nodes = temp_separate_node(node_properties[label])\n",
    "    for keys, values in nodes:\n",
    "        queries.append(node_constructor(node_labels=(label,),\n",
    "                                        property_keys=tuple(keys),\n",
    "                                        property_values=tuple(values)))"
   ]
  },
  {
   "cell_type": "code",
   "execution_count": null,
   "id": "97522cc8",
   "metadata": {},
   "outputs": [],
   "source": [
    "len(('a', 'b',))"
   ]
  },
  {
   "cell_type": "code",
   "execution_count": null,
   "id": "933b72c8",
   "metadata": {},
   "outputs": [],
   "source": [
    "queries"
   ]
  },
  {
   "cell_type": "code",
   "execution_count": null,
   "id": "d8ca760e",
   "metadata": {},
   "outputs": [],
   "source": [
    "('a', 'b',)"
   ]
  },
  {
   "cell_type": "code",
   "execution_count": null,
   "id": "241092f8",
   "metadata": {},
   "outputs": [],
   "source": [
    "new_node_properties"
   ]
  },
  {
   "cell_type": "code",
   "execution_count": null,
   "id": "21cc3f45",
   "metadata": {},
   "outputs": [],
   "source": [
    "p['Author'][1]"
   ]
  },
  {
   "cell_type": "code",
   "execution_count": null,
   "id": "4521fa59",
   "metadata": {},
   "outputs": [],
   "source": [
    "new = []\n",
    "for v in values:\n",
    "    new.append([[p['Author'][0], [v]])"
   ]
  },
  {
   "cell_type": "code",
   "execution_count": null,
   "id": "7d3eba4c",
   "metadata": {},
   "outputs": [],
   "source": [
    "new"
   ]
  },
  {
   "cell_type": "code",
   "execution_count": null,
   "id": "3baf7bee",
   "metadata": {},
   "outputs": [],
   "source": [
    "a = ['a', 'b', 'c', 'd', 'e', 'f']"
   ]
  },
  {
   "cell_type": "code",
   "execution_count": null,
   "id": "4bbd6d13",
   "metadata": {},
   "outputs": [],
   "source": [
    "i = 0\n",
    "a[0:i]+['new']+a[i+1:len(a)]"
   ]
  },
  {
   "cell_type": "code",
   "execution_count": null,
   "id": "2b1e71d7",
   "metadata": {},
   "outputs": [],
   "source": [
    "for i in range(0,10):\n",
    "    for j in range(0,10):\n",
    "        print(\"j: \" + str(j))\n",
    "        if j == 5:\n",
    "            break\n",
    "    if i == 2:\n",
    "        break"
   ]
  },
  {
   "cell_type": "code",
   "execution_count": null,
   "id": "d802fc86",
   "metadata": {},
   "outputs": [],
   "source": [
    "c = {[\"node1\", \"node2\"]: \"a thing\"}"
   ]
  },
  {
   "cell_type": "code",
   "execution_count": null,
   "id": "c121665e",
   "metadata": {},
   "outputs": [],
   "source": []
  }
 ],
 "metadata": {
  "kernelspec": {
   "display_name": "Python 3",
   "language": "python",
   "name": "python3"
  },
  "language_info": {
   "codemirror_mode": {
    "name": "ipython",
    "version": 3
   },
   "file_extension": ".py",
   "mimetype": "text/x-python",
   "name": "python",
   "nbconvert_exporter": "python",
   "pygments_lexer": "ipython3",
   "version": "3.8.9"
  }
 },
 "nbformat": 4,
 "nbformat_minor": 5
}
